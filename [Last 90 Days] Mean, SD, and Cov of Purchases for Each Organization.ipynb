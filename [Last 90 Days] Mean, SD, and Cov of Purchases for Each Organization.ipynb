{
    "metadata": {
        "kernelspec": {
            "name": "SQL",
            "display_name": "SQL",
            "language": "sql"
        },
        "language_info": {
            "name": "sql",
            "version": ""
        }
    },
    "nbformat_minor": 2,
    "nbformat": 4,
    "cells": [
        {
            "cell_type": "markdown",
            "source": [
                "# Justin's Queries"
            ],
            "metadata": {
                "azdata_cell_guid": "92256441-016e-40e4-82b5-89fad1a7715b"
            }
        },
        {
            "cell_type": "markdown",
            "source": [
                "## \\[Last 90 Days\\] Mean, SD, and Cov of Purchases for Each Organization"
            ],
            "metadata": {
                "azdata_cell_guid": "c77bc800-028e-4ac8-b01f-bac94c325206"
            }
        },
        {
            "cell_type": "code",
            "source": [
                "SELECT o.Name, AVG(t.Total) AS 'Mean Purchase Total', STDEV(t.Total) AS 'SD Purchase Total', STDEV(t.Total) / AVG(t.Total) AS 'CoV Purchase Total', COUNT(t.Total) AS 'Number of Purchases'\r\n",
                "FROM Transactions t\r\n",
                "    INNER JOIN\r\n",
                "    TransactionView tv\r\n",
                "    ON tv.TransactionId = t.TransactionId\r\n",
                "    INNER JOIN\r\n",
                "    dbo.path_organizations o\r\n",
                "    ON tv.sitekey = o.OrganizationId\r\n",
                "WHERE DATEDIFF(day, tv.Received,GETDATE()) between 0 AND 90 AND tv.Approved = 2 AND tv.ResultType = 1\r\n",
                "GROUP BY o.Name"
            ],
            "metadata": {
                "azdata_cell_guid": "6cdda4f9-405f-4943-af29-57bbee6a1b80"
            },
            "outputs": [
                {
                    "output_type": "display_data",
                    "data": {
                        "text/html": "(16 rows affected)"
                    },
                    "metadata": {}
                },
                {
                    "output_type": "display_data",
                    "data": {
                        "text/html": "Total execution time: 00:00:00.558"
                    },
                    "metadata": {}
                },
                {
                    "output_type": "execute_result",
                    "execution_count": 1,
                    "data": {
                        "application/vnd.dataresource+json": {
                            "schema": {
                                "fields": [
                                    {
                                        "name": "Name"
                                    },
                                    {
                                        "name": "Mean Purchase Total"
                                    },
                                    {
                                        "name": "SD Purchase Total"
                                    },
                                    {
                                        "name": "CoV Purchase Total"
                                    },
                                    {
                                        "name": "Number of Purchases"
                                    }
                                ]
                            },
                            "data": [
                                {
                                    "0": "",
                                    "1": "844.532201",
                                    "2": "223.54518153644386",
                                    "3": "0.2646970491731953",
                                    "4": "159"
                                },
                                {
                                    "0": "1",
                                    "1": "82.736190",
                                    "2": "170.75229754483797",
                                    "3": "2.0638163002772787",
                                    "4": "42"
                                },
                                {
                                    "0": "112121",
                                    "1": "240.143551",
                                    "2": "50.610385047274754",
                                    "3": "0.21075054831380732",
                                    "4": "245"
                                },
                                {
                                    "0": "123",
                                    "1": "106.439000",
                                    "2": "163.48276319571207",
                                    "3": "1.5359291537473303",
                                    "4": "20"
                                },
                                {
                                    "0": "13",
                                    "1": "84.693956",
                                    "2": "133.63411591837144",
                                    "3": "1.5778471360857371",
                                    "4": "915"
                                },
                                {
                                    "0": "1312",
                                    "1": "29.047902",
                                    "2": "14.299752668234285",
                                    "3": "0.4922817719584115",
                                    "4": "901"
                                },
                                {
                                    "0": "1989",
                                    "1": "145.748336",
                                    "2": "144.95431379798666",
                                    "3": "0.9945521010818721",
                                    "4": "1515"
                                },
                                {
                                    "0": "321321",
                                    "1": "52.416666",
                                    "2": "29.908435143845676",
                                    "3": "0.5705901848821456",
                                    "4": "24"
                                },
                                {
                                    "0": "Creative Engineers",
                                    "1": "82.691559",
                                    "2": "6.383549860878072",
                                    "3": "0.0771971158613429",
                                    "4": "436"
                                },
                                {
                                    "0": "Hello B. World",
                                    "1": "59.771250",
                                    "2": "30.103107783321754",
                                    "3": "0.50363858516129",
                                    "4": "8"
                                },
                                {
                                    "0": "Joebet Mutia",
                                    "1": "41.313773",
                                    "2": "99.37140441847747",
                                    "3": "2.4052851434914326",
                                    "4": "106"
                                },
                                {
                                    "0": "Joebet Mutia1",
                                    "1": "4005.466666",
                                    "2": "4661.358582869939",
                                    "3": "1.1637491886869042",
                                    "4": "15"
                                },
                                {
                                    "0": "Test 123",
                                    "1": "22.000000",
                                    "2": "NULL",
                                    "3": "NULL",
                                    "4": "1"
                                },
                                {
                                    "0": "TestOrganization",
                                    "1": "65.867500",
                                    "2": "36.93765050730757",
                                    "3": "0.5607871940988738",
                                    "4": "4"
                                },
                                {
                                    "0": "TestOrganization6",
                                    "1": "30.908333",
                                    "2": "6.277739773729596",
                                    "3": "0.20310832595629136",
                                    "4": "6"
                                },
                                {
                                    "0": "This is our Test Org",
                                    "1": "47.987500",
                                    "2": "30.85350304260441",
                                    "3": "0.6429487479573724",
                                    "4": "8"
                                }
                            ]
                        },
                        "text/html": "<table><tr><th>Name</th><th>Mean Purchase Total</th><th>SD Purchase Total</th><th>CoV Purchase Total</th><th>Number of Purchases</th></tr><tr><td></td><td>844.532201</td><td>223.54518153644386</td><td>0.2646970491731953</td><td>159</td></tr><tr><td>1</td><td>82.736190</td><td>170.75229754483797</td><td>2.0638163002772787</td><td>42</td></tr><tr><td>112121</td><td>240.143551</td><td>50.610385047274754</td><td>0.21075054831380732</td><td>245</td></tr><tr><td>123</td><td>106.439000</td><td>163.48276319571207</td><td>1.5359291537473303</td><td>20</td></tr><tr><td>13</td><td>84.693956</td><td>133.63411591837144</td><td>1.5778471360857371</td><td>915</td></tr><tr><td>1312</td><td>29.047902</td><td>14.299752668234285</td><td>0.4922817719584115</td><td>901</td></tr><tr><td>1989</td><td>145.748336</td><td>144.95431379798666</td><td>0.9945521010818721</td><td>1515</td></tr><tr><td>321321</td><td>52.416666</td><td>29.908435143845676</td><td>0.5705901848821456</td><td>24</td></tr><tr><td>Creative Engineers</td><td>82.691559</td><td>6.383549860878072</td><td>0.0771971158613429</td><td>436</td></tr><tr><td>Hello B. World</td><td>59.771250</td><td>30.103107783321754</td><td>0.50363858516129</td><td>8</td></tr><tr><td>Joebet Mutia</td><td>41.313773</td><td>99.37140441847747</td><td>2.4052851434914326</td><td>106</td></tr><tr><td>Joebet Mutia1</td><td>4005.466666</td><td>4661.358582869939</td><td>1.1637491886869042</td><td>15</td></tr><tr><td>Test 123</td><td>22.000000</td><td>NULL</td><td>NULL</td><td>1</td></tr><tr><td>TestOrganization</td><td>65.867500</td><td>36.93765050730757</td><td>0.5607871940988738</td><td>4</td></tr><tr><td>TestOrganization6</td><td>30.908333</td><td>6.277739773729596</td><td>0.20310832595629136</td><td>6</td></tr><tr><td>This is our Test Org</td><td>47.987500</td><td>30.85350304260441</td><td>0.6429487479573724</td><td>8</td></tr></table>"
                    },
                    "metadata": {}
                }
            ],
            "execution_count": null
        },
        {
            "cell_type": "markdown",
            "source": [
                "## \\[Last 90 Days\\] Busiest Day of Week"
            ],
            "metadata": {
                "azdata_cell_guid": "831644e4-f2d3-4527-96a8-55582a7d2256"
            }
        },
        {
            "cell_type": "code",
            "source": [
                "WITH DayofWeekList AS\r\n",
                "\r\n",
                "    (SELECT o.Name, DATENAME(WEEKDAY, tv.Received) AS DayofWeek, COUNT(DATENAME(WEEKDAY, tv.Received)) AS Frequency\r\n",
                "\r\n",
                "    FROM TransactionView tv INNER JOIN path_organizations o ON tv.SiteKey = o.OrganizationId\r\n",
                "\r\n",
                "    WHERE DATEDIFF(day, tv.Received,GETDATE()) between 0 AND 90 AND tv.Approved = 2 AND tv.ResultType = 1 AND o.Name <> '' \r\n",
                "\r\n",
                "    GROUP BY o.Name, DATENAME(WEEKDAY, tv.Received))\r\n",
                "\r\n",
                "SELECT d.Name, d.DayofWeek, d.Frequency\r\n",
                "\r\n",
                "FROM DayofWeekList AS d \r\n",
                "\r\n",
                "JOIN \r\n",
                "\r\n",
                "    (SELECT d.Name, MAX(d.Frequency) AS MaxFrequency\r\n",
                "\r\n",
                "    FROM DayofWeekList AS d\r\n",
                "\r\n",
                "    GROUP BY d.Name) AS m\r\n",
                "\r\n",
                "ON d.Name = m.Name AND d.Frequency = m.MaxFrequency"
            ],
            "metadata": {
                "azdata_cell_guid": "1fcb3ceb-46ff-43ec-ac8e-17f070b6c9e0"
            },
            "outputs": [
                {
                    "output_type": "display_data",
                    "data": {
                        "text/html": "(16 rows affected)"
                    },
                    "metadata": {}
                },
                {
                    "output_type": "display_data",
                    "data": {
                        "text/html": "Total execution time: 00:00:00.669"
                    },
                    "metadata": {}
                },
                {
                    "output_type": "execute_result",
                    "metadata": {},
                    "execution_count": 1,
                    "data": {
                        "application/vnd.dataresource+json": {
                            "schema": {
                                "fields": [
                                    {
                                        "name": "Name"
                                    },
                                    {
                                        "name": "DayofWeek"
                                    },
                                    {
                                        "name": "Frequency"
                                    }
                                ]
                            },
                            "data": [
                                {
                                    "0": "This is our Test Org",
                                    "1": "Friday",
                                    "2": "4"
                                },
                                {
                                    "0": "321321",
                                    "1": "Monday",
                                    "2": "24"
                                },
                                {
                                    "0": "TestOrganization",
                                    "1": "Friday",
                                    "2": "4"
                                },
                                {
                                    "0": "Joebet Mutia1",
                                    "1": "Thursday",
                                    "2": "9"
                                },
                                {
                                    "0": "13",
                                    "1": "Monday",
                                    "2": "283"
                                },
                                {
                                    "0": "Hello B. World",
                                    "1": "Tuesday",
                                    "2": "4"
                                },
                                {
                                    "0": "Joebet Mutia",
                                    "1": "Monday",
                                    "2": "30"
                                },
                                {
                                    "0": "1",
                                    "1": "Thursday",
                                    "2": "23"
                                },
                                {
                                    "0": "112121",
                                    "1": "Monday",
                                    "2": "86"
                                },
                                {
                                    "0": "123",
                                    "1": "Thursday",
                                    "2": "4"
                                },
                                {
                                    "0": "Test 123",
                                    "1": "Wednesday",
                                    "2": "1"
                                },
                                {
                                    "0": "TestOrganization6",
                                    "1": "Tuesday",
                                    "2": "6"
                                },
                                {
                                    "0": "Creative Engineers",
                                    "1": "Tuesday",
                                    "2": "161"
                                },
                                {
                                    "0": "1989",
                                    "1": "Thursday",
                                    "2": "1079"
                                },
                                {
                                    "0": "123",
                                    "1": "Wednesday",
                                    "2": "4"
                                },
                                {
                                    "0": "1312",
                                    "1": "Friday",
                                    "2": "163"
                                }
                            ]
                        },
                        "text/html": [
                            "<table>",
                            "<tr><th>Name</th><th>DayofWeek</th><th>Frequency</th></tr>",
                            "<tr><td>This is our Test Org</td><td>Friday</td><td>4</td></tr>",
                            "<tr><td>321321</td><td>Monday</td><td>24</td></tr>",
                            "<tr><td>TestOrganization</td><td>Friday</td><td>4</td></tr>",
                            "<tr><td>Joebet Mutia1</td><td>Thursday</td><td>9</td></tr>",
                            "<tr><td>13</td><td>Monday</td><td>283</td></tr>",
                            "<tr><td>Hello B. World</td><td>Tuesday</td><td>4</td></tr>",
                            "<tr><td>Joebet Mutia</td><td>Monday</td><td>30</td></tr>",
                            "<tr><td>1</td><td>Thursday</td><td>23</td></tr>",
                            "<tr><td>112121</td><td>Monday</td><td>86</td></tr>",
                            "<tr><td>123</td><td>Thursday</td><td>4</td></tr>",
                            "<tr><td>Test 123</td><td>Wednesday</td><td>1</td></tr>",
                            "<tr><td>TestOrganization6</td><td>Tuesday</td><td>6</td></tr>",
                            "<tr><td>Creative Engineers</td><td>Tuesday</td><td>161</td></tr>",
                            "<tr><td>1989</td><td>Thursday</td><td>1079</td></tr>",
                            "<tr><td>123</td><td>Wednesday</td><td>4</td></tr>",
                            "<tr><td>1312</td><td>Friday</td><td>163</td></tr>",
                            "</table>"
                        ]
                    }
                }
            ],
            "execution_count": 1
        },
        {
            "cell_type": "markdown",
            "source": [
                "## \\[Last 90 Days\\] Most Popular Location"
            ],
            "metadata": {
                "azdata_cell_guid": "2c2fdd63-0a4b-49c8-820b-ffa214dc24d6"
            }
        },
        {
            "cell_type": "code",
            "source": [
                "WITH PostalZipCodeList AS\r\n",
                "\r\n",
                "    (SELECT o.Name, PostalZipCode, COUNT(PostalZipCode) AS Frequency\r\n",
                "\r\n",
                "    FROM TransactionView tv INNER JOIN path_organizations o ON tv.SiteKey = o.OrganizationId\r\n",
                "\r\n",
                "    WHERE DATEDIFF(day, tv.Received,GETDATE()) between 0 AND 90 AND tv.Approved = 2 AND tv.ResultType = 1 AND o.Name <> '' AND tv.PostalZipCode <> '' \r\n",
                "\r\n",
                "    GROUP BY o.Name, PostalZipCode)\r\n",
                "\r\n",
                "SELECT p.Name, p.PostalZipCode, p.Frequency\r\n",
                "\r\n",
                "FROM PostalZipCodeList AS p\r\n",
                "\r\n",
                "JOIN \r\n",
                "\r\n",
                "    (SELECT MAX(p.Frequency) AS MaxFrequency, p.Name\r\n",
                "\r\n",
                "    FROM PostalZipCodeList AS p\r\n",
                "\r\n",
                "    GROUP BY p.Name) AS m\r\n",
                "\r\n",
                "ON p.Name = m.Name AND p.Frequency = m.MaxFrequency"
            ],
            "metadata": {
                "azdata_cell_guid": "ac8cf24b-798b-40fd-a67e-46a696f762e6"
            },
            "outputs": [
{
    "output_type": "display_data",
    "data": {
        "text/html": "(14 rows affected)"
    },
    "metadata": {}
}, {
    "output_type": "display_data",
    "data": {
        "text/html": "Total execution time: 00:00:00.623"
    },
    "metadata": {}
}, {
    "output_type": "execute_result",
    "metadata": {},
    "execution_count": 2,
    "data": {
        "application/vnd.dataresource+json": {
            "schema": {
                "fields": [
                    {
                        "name": "Name"
                    },
                    {
                        "name": "PostalZipCode"
                    },
                    {
                        "name": "Frequency"
                    }
                ]
            },
            "data": [
                {
                    "0": "TestOrganization",
                    "1": "4114",
                    "2": "2"
                },
                {
                    "0": "1989",
                    "1": "92618",
                    "2": "1099"
                },
                {
                    "0": "123",
                    "1": "94545",
                    "2": "14"
                },
                {
                    "0": "1",
                    "1": "92612",
                    "2": "28"
                },
                {
                    "0": "Joebet Mutia1",
                    "1": "03010",
                    "2": "7"
                },
                {
                    "0": "13",
                    "1": "92618",
                    "2": "586"
                },
                {
                    "0": "TestOrganization6",
                    "1": "4114",
                    "2": "6"
                },
                {
                    "0": "112121",
                    "1": "4114",
                    "2": "243"
                },
                {
                    "0": "This is our Test Org",
                    "1": "92618",
                    "2": "4"
                },
                {
                    "0": "1312",
                    "1": "4114",
                    "2": "901"
                },
                {
                    "0": "321321",
                    "1": "11211",
                    "2": "23"
                },
                {
                    "0": "Creative Engineers",
                    "1": "4114",
                    "2": "8"
                },
                {
                    "0": "TestOrganization",
                    "1": "92618",
                    "2": "2"
                },
                {
                    "0": "Joebet Mutia",
                    "1": "92618",
                    "2": "18"
                }
            ]
        },
        "text/html": [
            "<table>",
            "<tr><th>Name</th><th>PostalZipCode</th><th>Frequency</th></tr>",
            "<tr><td>TestOrganization</td><td>4114</td><td>2</td></tr>",
            "<tr><td>1989</td><td>92618</td><td>1099</td></tr>",
            "<tr><td>123</td><td>94545</td><td>14</td></tr>",
            "<tr><td>1</td><td>92612</td><td>28</td></tr>",
            "<tr><td>Joebet Mutia1</td><td>03010</td><td>7</td></tr>",
            "<tr><td>13</td><td>92618</td><td>586</td></tr>",
            "<tr><td>TestOrganization6</td><td>4114</td><td>6</td></tr>",
            "<tr><td>112121</td><td>4114</td><td>243</td></tr>",
            "<tr><td>This is our Test Org</td><td>92618</td><td>4</td></tr>",
            "<tr><td>1312</td><td>4114</td><td>901</td></tr>",
            "<tr><td>321321</td><td>11211</td><td>23</td></tr>",
            "<tr><td>Creative Engineers</td><td>4114</td><td>8</td></tr>",
            "<tr><td>TestOrganization</td><td>92618</td><td>2</td></tr>",
            "<tr><td>Joebet Mutia</td><td>92618</td><td>18</td></tr>",
            "</table>"
        ]
    }
}
],
            "execution_count": null
        }
    ]
}