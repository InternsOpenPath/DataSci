{
    "metadata": {
        "kernelspec": {
            "name": "SQL",
            "display_name": "SQL",
            "language": "sql"
        },
        "language_info": {
            "name": "sql",
            "version": ""
        }
    },
    "nbformat_minor": 2,
    "nbformat": 4,
    "cells": [
        {
            "cell_type": "markdown",
            "source": [
                "# \\[Last 90 Days\\] Mean, SD, and Cov of Purchases for Each Organization"
            ],
            "metadata": {
                "azdata_cell_guid": "92256441-016e-40e4-82b5-89fad1a7715b"
            }
        },
        {
            "cell_type": "code",
            "source": [
                "SELECT o.Name, AVG(t.Total) AS 'Mean Purchase Total', STDEV(t.Total) AS 'SD Purchase Total', STDEV(t.Total) / AVG(t.Total) AS 'CoV Purchase Total', COUNT(t.Total) AS 'Number of Purchases'\r\n",
                "FROM Transactions t\r\n",
                "    INNER JOIN\r\n",
                "    TransactionView tv\r\n",
                "    ON tv.TransactionId = t.TransactionId\r\n",
                "    INNER JOIN\r\n",
                "    dbo.path_organizations o\r\n",
                "    ON tv.sitekey = o.OrganizationId\r\n",
                "WHERE DATEDIFF(day, tv.Received,GETDATE()) between 0 AND 90 AND tv.Approved = 2 AND tv.ResultType = 1\r\n",
                "GROUP BY o.Name"
            ],
            "metadata": {
                "azdata_cell_guid": "6cdda4f9-405f-4943-af29-57bbee6a1b80"
            },
            "outputs": [
{
    "output_type": "display_data",
    "data": {
        "text/html": "(16 rows affected)"
    },
    "metadata": {}
}, {
    "output_type": "display_data",
    "data": {
        "text/html": "Total execution time: 00:00:00.558"
    },
    "metadata": {}
}, {
    "output_type": "execute_result",
    "metadata": {},
    "execution_count": 1,
    "data": {
        "application/vnd.dataresource+json": {
            "schema": {
                "fields": [
                    {
                        "name": "Name"
                    },
                    {
                        "name": "Mean Purchase Total"
                    },
                    {
                        "name": "SD Purchase Total"
                    },
                    {
                        "name": "CoV Purchase Total"
                    },
                    {
                        "name": "Number of Purchases"
                    }
                ]
            },
            "data": [
                {
                    "0": "",
                    "1": "844.532201",
                    "2": "223.54518153644386",
                    "3": "0.2646970491731953",
                    "4": "159"
                },
                {
                    "0": "1",
                    "1": "82.736190",
                    "2": "170.75229754483797",
                    "3": "2.0638163002772787",
                    "4": "42"
                },
                {
                    "0": "112121",
                    "1": "240.143551",
                    "2": "50.610385047274754",
                    "3": "0.21075054831380732",
                    "4": "245"
                },
                {
                    "0": "123",
                    "1": "106.439000",
                    "2": "163.48276319571207",
                    "3": "1.5359291537473303",
                    "4": "20"
                },
                {
                    "0": "13",
                    "1": "84.693956",
                    "2": "133.63411591837144",
                    "3": "1.5778471360857371",
                    "4": "915"
                },
                {
                    "0": "1312",
                    "1": "29.047902",
                    "2": "14.299752668234285",
                    "3": "0.4922817719584115",
                    "4": "901"
                },
                {
                    "0": "1989",
                    "1": "145.748336",
                    "2": "144.95431379798666",
                    "3": "0.9945521010818721",
                    "4": "1515"
                },
                {
                    "0": "321321",
                    "1": "52.416666",
                    "2": "29.908435143845676",
                    "3": "0.5705901848821456",
                    "4": "24"
                },
                {
                    "0": "Creative Engineers",
                    "1": "82.691559",
                    "2": "6.383549860878072",
                    "3": "0.0771971158613429",
                    "4": "436"
                },
                {
                    "0": "Hello B. World",
                    "1": "59.771250",
                    "2": "30.103107783321754",
                    "3": "0.50363858516129",
                    "4": "8"
                },
                {
                    "0": "Joebet Mutia",
                    "1": "41.313773",
                    "2": "99.37140441847747",
                    "3": "2.4052851434914326",
                    "4": "106"
                },
                {
                    "0": "Joebet Mutia1",
                    "1": "4005.466666",
                    "2": "4661.358582869939",
                    "3": "1.1637491886869042",
                    "4": "15"
                },
                {
                    "0": "Test 123",
                    "1": "22.000000",
                    "2": "NULL",
                    "3": "NULL",
                    "4": "1"
                },
                {
                    "0": "TestOrganization",
                    "1": "65.867500",
                    "2": "36.93765050730757",
                    "3": "0.5607871940988738",
                    "4": "4"
                },
                {
                    "0": "TestOrganization6",
                    "1": "30.908333",
                    "2": "6.277739773729596",
                    "3": "0.20310832595629136",
                    "4": "6"
                },
                {
                    "0": "This is our Test Org",
                    "1": "47.987500",
                    "2": "30.85350304260441",
                    "3": "0.6429487479573724",
                    "4": "8"
                }
            ]
        },
        "text/html": [
            "<table>",
            "<tr><th>Name</th><th>Mean Purchase Total</th><th>SD Purchase Total</th><th>CoV Purchase Total</th><th>Number of Purchases</th></tr>",
            "<tr><td></td><td>844.532201</td><td>223.54518153644386</td><td>0.2646970491731953</td><td>159</td></tr>",
            "<tr><td>1</td><td>82.736190</td><td>170.75229754483797</td><td>2.0638163002772787</td><td>42</td></tr>",
            "<tr><td>112121</td><td>240.143551</td><td>50.610385047274754</td><td>0.21075054831380732</td><td>245</td></tr>",
            "<tr><td>123</td><td>106.439000</td><td>163.48276319571207</td><td>1.5359291537473303</td><td>20</td></tr>",
            "<tr><td>13</td><td>84.693956</td><td>133.63411591837144</td><td>1.5778471360857371</td><td>915</td></tr>",
            "<tr><td>1312</td><td>29.047902</td><td>14.299752668234285</td><td>0.4922817719584115</td><td>901</td></tr>",
            "<tr><td>1989</td><td>145.748336</td><td>144.95431379798666</td><td>0.9945521010818721</td><td>1515</td></tr>",
            "<tr><td>321321</td><td>52.416666</td><td>29.908435143845676</td><td>0.5705901848821456</td><td>24</td></tr>",
            "<tr><td>Creative Engineers</td><td>82.691559</td><td>6.383549860878072</td><td>0.0771971158613429</td><td>436</td></tr>",
            "<tr><td>Hello B. World</td><td>59.771250</td><td>30.103107783321754</td><td>0.50363858516129</td><td>8</td></tr>",
            "<tr><td>Joebet Mutia</td><td>41.313773</td><td>99.37140441847747</td><td>2.4052851434914326</td><td>106</td></tr>",
            "<tr><td>Joebet Mutia1</td><td>4005.466666</td><td>4661.358582869939</td><td>1.1637491886869042</td><td>15</td></tr>",
            "<tr><td>Test 123</td><td>22.000000</td><td>NULL</td><td>NULL</td><td>1</td></tr>",
            "<tr><td>TestOrganization</td><td>65.867500</td><td>36.93765050730757</td><td>0.5607871940988738</td><td>4</td></tr>",
            "<tr><td>TestOrganization6</td><td>30.908333</td><td>6.277739773729596</td><td>0.20310832595629136</td><td>6</td></tr>",
            "<tr><td>This is our Test Org</td><td>47.987500</td><td>30.85350304260441</td><td>0.6429487479573724</td><td>8</td></tr>",
            "</table>"
        ]
    }
}
],
            "execution_count": null
        }
    ]
}